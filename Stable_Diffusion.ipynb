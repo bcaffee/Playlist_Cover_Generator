{
  "cells": [
    {
      "cell_type": "code",
      "execution_count": null,
      "metadata": {
        "id": "hZ26AxSuN6c7"
      },
      "outputs": [],
      "source": [
        "!pip install huggingface_hub --upgrade\n",
        "!pip install diffusers accelerate transformers safetensors sentencepiece\n",
        "!pip install clean-fid"
      ]
    },
    {
      "cell_type": "code",
      "source": [
        "import matplotlib.pyplot as plt\n",
        "from diffusers import StableDiffusionPipeline\n",
        "import torch\n",
        "from huggingface_hub import login\n",
        "import numpy as np\n",
        "import os\n",
        "from PIL import Image\n",
        "import json\n",
        "import os.path\n",
        "from cleanfid import fid"
      ],
      "metadata": {
        "id": "IewAWIUghyGk"
      },
      "execution_count": null,
      "outputs": []
    },
    {
      "cell_type": "code",
      "source": [
        "# Mount Google Drive\n",
        "from google.colab import drive\n",
        "drive.mount(\"/content/drive\", force_remount=True)"
      ],
      "metadata": {
        "id": "0REackoJh7Y5"
      },
      "execution_count": null,
      "outputs": []
    },
    {
      "cell_type": "markdown",
      "source": [
        "We use s Stable Diffusion model from Hugging Face pretrained on the LAION 5B dataset."
      ],
      "metadata": {
        "id": "DwFNi4K9isN_"
      }
    },
    {
      "cell_type": "code",
      "execution_count": null,
      "metadata": {
        "id": "reBAq6beP1qH"
      },
      "outputs": [],
      "source": [
        "# Login to Hugging Face\n",
        "login()"
      ]
    },
    {
      "cell_type": "code",
      "execution_count": null,
      "metadata": {
        "id": "E8jHg-uQ-_ec"
      },
      "outputs": [],
      "source": [
        "#Initialize Stable Diffusion model\n",
        "model_id = \"runwayml/stable-diffusion-v1-5\"\n",
        "pipe = StableDiffusionPipeline.from_pretrained(model_id, torch_dtype=torch.float16)\n",
        "pipe = pipe.to(\"cuda\")"
      ]
    },
    {
      "cell_type": "markdown",
      "source": [
        "We can generate 5 images using Stable Diffusion given prompts from our dataset and compare them with the true images."
      ],
      "metadata": {
        "id": "ZNOSSiXIimtF"
      }
    },
    {
      "cell_type": "code",
      "execution_count": null,
      "metadata": {
        "id": "XPHGIVBUQWmM"
      },
      "outputs": [],
      "source": [
        "with open(\"/content/drive/MyDrive/Spring Quarter/CSE493G1/Final Project/data/prompts.json\", \"r\") as file:\n",
        "  prompts = json.load(file)\n",
        "\n",
        "dir_name = \"/content/drive/MyDrive/Spring Quarter/CSE493G1/Final Project/data/outputs/\"\n",
        "if not os.path.exists(dir_name):\n",
        "  os.makedirs(dir_name)\n",
        "\n",
        "images_path = '/content/drive/MyDrive/Spring Quarter/CSE493G1/Final Project/data/images/'\n",
        "\n",
        "# List of sample true images\n",
        "image_names = ['37i9dQZF1DWWOaP4H0w5b0_0.jpg', '43Nvl9B8fErDqqPSx1OdW0.jpg', '0Iy20da7GRpAQGfVXZ5CFB.jpg', '216GOIIed7qbRTVVDDDES4.jpg', '37i9dQZF1DWV7cvDzE3MOI.jpg']\n",
        "images = []\n",
        "\n",
        "# Save the true images\n",
        "for i in range(len(image_names)):\n",
        "  image = Image.open(images_path + image_names[i])\n",
        "  images.append(image)\n",
        "  plt.imshow(image)\n",
        "  image.save(dir_name + image_names[i])\n",
        "\n",
        "# Generate and save the output images as well as the prompts\n",
        "for i in range(len(image_names)):\n",
        "  image_id = image_names[i][0:22]\n",
        "  prompt = prompts[image_id]\n",
        "  print(prompt)\n",
        "  generated_image = pipe(prompt).images[0]\n",
        "  plt.imshow(generated_image)\n",
        "  generated_image.save(dir_name + image_names[i][:-4] + \"generated.jpg\")"
      ]
    },
    {
      "cell_type": "markdown",
      "metadata": {
        "id": "SRrV7wRi-N0c"
      },
      "source": [
        "We can run Stable Diffusion with the prompts from our test set to determine how well the model performs based off of the FID score with the true images. "
      ]
    },
    {
      "cell_type": "code",
      "execution_count": null,
      "metadata": {
        "id": "98SKt-Ygbgby"
      },
      "outputs": [],
      "source": [
        "dir_orig = \"/content/drive/MyDrive/Spring Quarter/CSE493G1/Final Project/data/Stable Diffusion Baseline/Original/\"\n",
        "if not os.path.exists(dir_orig):\n",
        "  os.makedirs(dir_orig)\n",
        "\n",
        "dir_gen = \"/content/drive/MyDrive/Spring Quarter/CSE493G1/Final Project/data/Stable Diffusion Baseline/Generated/\"\n",
        "if not os.path.exists(dir_gen):\n",
        "  os.makedirs(dir_gen)\n",
        "\n",
        "# Get a list of all file names in the folder\n",
        "file_names = os.listdir(images_path)\n",
        "\n",
        "# Size of the test set (note: we will perform the train/val/test split when fine-tuning Stable Diffusion so that each model is evaluated on the same test set)\n",
        "num_test = 3040\n",
        "\n",
        "# Generate a random shuffle of all data\n",
        "permutations = np.random.permutation(len(file_names))\n",
        "\n",
        "# Generate an image using the model for each prompt\n",
        "for i in range(num_test):\n",
        "  index = permutations[i]\n",
        "  image = Image.open(images_path + file_names[index])\n",
        "  image.save(dir_orig + file_names[index])\n",
        "  image_id = file_names[index][0:22]\n",
        "  prompt = prompts[image_id]\n",
        "  generated_image = pipe(prompt).images[0]\n",
        "  generated_image.save(dir_gen + file_names[index][:-4] + \"generated.jpg\")\n",
        "\n",
        "# Caluclate the FID score\n",
        "score = fid.compute_fid(dir_orig, dir_gen)\n",
        "print(\"FID score: \" + str(score))"
      ]
    }
  ],
  "metadata": {
    "accelerator": "GPU",
    "colab": {
      "provenance": []
    },
    "gpuClass": "standard",
    "kernelspec": {
      "display_name": "Python 3",
      "name": "python3"
    },
    "language_info": {
      "name": "python"
    }
  },
  "nbformat": 4,
  "nbformat_minor": 0
}