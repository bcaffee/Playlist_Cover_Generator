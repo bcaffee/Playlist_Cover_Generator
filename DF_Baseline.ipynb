{
  "nbformat": 4,
  "nbformat_minor": 0,
  "metadata": {
    "colab": {
      "provenance": []
    },
    "kernelspec": {
      "name": "python3",
      "display_name": "Python 3"
    },
    "language_info": {
      "name": "python"
    }
  },
  "cells": [
    {
      "cell_type": "code",
      "execution_count": null,
      "metadata": {
        "id": "GjOpNK8eRySu"
      },
      "outputs": [],
      "source": [
        "! pip install --upgrade \\\n",
        "  diffusers~=0.16 \\\n",
        "  transformers~=4.28 \\\n",
        "  safetensors~=0.3 \\\n",
        "  sentencepiece~=0.1 \\\n",
        "  accelerate~=0.18 \\\n",
        "  bitsandbytes~=0.38 \\\n",
        "  torch~=2.0 -q"
      ]
    },
    {
      "cell_type": "code",
      "source": [
        "#upload files for DeepFloyd\n",
        "from google.colab import files\n",
        "uploaded = files.upload()"
      ],
      "metadata": {
        "id": "-GCcLAuIRzx1"
      },
      "execution_count": null,
      "outputs": []
    },
    {
      "cell_type": "code",
      "source": [
        "import json\n",
        "with open(\"/content/test_set_prompts.json\", \"r\") as file:\n",
        "  prompts = json.load(file)"
      ],
      "metadata": {
        "id": "jqIU0H80R1oM"
      },
      "execution_count": null,
      "outputs": []
    },
    {
      "cell_type": "code",
      "source": [
        "!pip install huggingface_hub --upgrade"
      ],
      "metadata": {
        "id": "hV5KxYigR8Ay"
      },
      "execution_count": null,
      "outputs": []
    },
    {
      "cell_type": "code",
      "source": [
        "# workaround for memory issues/constraints with DeepFloyd\n",
        "!pip install git+https://github.com/AndrewZhang126/accelerate"
      ],
      "metadata": {
        "id": "tJ16b-GeR9_W"
      },
      "execution_count": null,
      "outputs": []
    },
    {
      "cell_type": "code",
      "source": [
        "from huggingface_hub import login\n",
        "\n",
        "login()"
      ],
      "metadata": {
        "id": "RUR-Csp7SB1t"
      },
      "execution_count": null,
      "outputs": []
    },
    {
      "cell_type": "code",
      "source": [
        "from transformers import T5EncoderModel\n",
        "\n",
        "text_encoder = T5EncoderModel.from_pretrained(\n",
        "    \"DeepFloyd/IF-I-XL-v1.0\",\n",
        "    subfolder=\"text_encoder\", \n",
        "    device_map=\"auto\", \n",
        "    load_in_8bit=True, \n",
        "    variant=\"8bit\"\n",
        ")"
      ],
      "metadata": {
        "id": "IipoaLpFSDSz"
      },
      "execution_count": null,
      "outputs": []
    },
    {
      "cell_type": "code",
      "source": [
        "from diffusers import DiffusionPipeline\n",
        "\n",
        "pipe = DiffusionPipeline.from_pretrained(\n",
        "    \"DeepFloyd/IF-I-XL-v1.0\", \n",
        "    text_encoder=text_encoder, # pass the previously instantiated 8bit text encoder\n",
        "    unet=None, \n",
        "    device_map=\"auto\"\n",
        ")"
      ],
      "metadata": {
        "id": "NQH2yjxkSFJk"
      },
      "execution_count": null,
      "outputs": []
    },
    {
      "cell_type": "code",
      "source": [
        "import os"
      ],
      "metadata": {
        "id": "f_cTbntYSGa8"
      },
      "execution_count": null,
      "outputs": []
    },
    {
      "cell_type": "code",
      "source": [
        "images_path = '/content/'\n",
        "dir_orig = \"/content/orig/\"\n",
        "if not os.path.exists(dir_orig):\n",
        "  os.makedirs(dir_orig)\n",
        "\n",
        "file_names = os.listdir(images_path)\n",
        "prompts_list = []\n",
        "files_list = []\n",
        "\n",
        "for i in range(len(file_names)):\n",
        "  if len(file_names[i]) == 26 and file_names[i][0] == \"0\":\n",
        "    files_list.append(file_names[i])"
      ],
      "metadata": {
        "id": "MTJqV_UsSHwF"
      },
      "execution_count": null,
      "outputs": []
    },
    {
      "cell_type": "code",
      "source": [
        "for i in range(len(files)):\n",
        "  image = Image.open(images_path + files_list[i])\n",
        "  image.save(dir_orig + files_list[i])\n",
        "  image_id = files_list[i][0:22]\n",
        "  prompt = prompts[image_id]\n",
        "  prompt_embeds, negative_embeds = pipe.encode_prompt(prompt)\n",
        "  prompts_list.append((prompt_embeds, negative_embeds))"
      ],
      "metadata": {
        "id": "nlTwY_XISJPL"
      },
      "execution_count": null,
      "outputs": []
    },
    {
      "cell_type": "code",
      "source": [
        "import shutil"
      ],
      "metadata": {
        "id": "8i7QLcpMSRvJ"
      },
      "execution_count": null,
      "outputs": []
    },
    {
      "cell_type": "code",
      "source": [
        "shutil.make_archive('/content/orig', 'zip', '/content/orig')\n",
        "from google.colab import files\n",
        "files.download(\"/content/orig.zip\")"
      ],
      "metadata": {
        "id": "v_FpSXpvSYGC"
      },
      "execution_count": null,
      "outputs": []
    },
    {
      "cell_type": "code",
      "source": [
        "# free up memory\n",
        "del text_encoder\n",
        "del pipe"
      ],
      "metadata": {
        "id": "wtxJXznnSbzX"
      },
      "execution_count": null,
      "outputs": []
    },
    {
      "cell_type": "code",
      "source": [
        "import gc\n",
        "import torch\n",
        "\n",
        "def flush():\n",
        "  gc.collect()\n",
        "  torch.cuda.empty_cache()"
      ],
      "metadata": {
        "id": "UJL-HvsVSeqt"
      },
      "execution_count": null,
      "outputs": []
    },
    {
      "cell_type": "code",
      "source": [
        "flush()"
      ],
      "metadata": {
        "id": "ja07l8BKSh6Z"
      },
      "execution_count": null,
      "outputs": []
    },
    {
      "cell_type": "code",
      "source": [
        "pipe = DiffusionPipeline.from_pretrained(\n",
        "    \"DeepFloyd/IF-I-XL-v1.0\", \n",
        "    text_encoder=None, \n",
        "    variant=\"fp16\", \n",
        "    torch_dtype=torch.float16, \n",
        "    device_map=\"auto\"\n",
        ")"
      ],
      "metadata": {
        "id": "uxBb4QAUSiOL"
      },
      "execution_count": null,
      "outputs": []
    },
    {
      "cell_type": "code",
      "source": [
        "from diffusers.utils import pt_to_pil"
      ],
      "metadata": {
        "id": "IoA1rI1GSjlz"
      },
      "execution_count": null,
      "outputs": []
    },
    {
      "cell_type": "code",
      "source": [
        "dir_gen1 = \"/content/genvr1/\"\n",
        "if not os.path.exists(dir_gen1):\n",
        "  os.makedirs(dir_gen1)\n",
        "\n",
        "v1_images = []\n",
        "for i in range(len(prompts_list)):\n",
        "  prompt_embeds, negative_embeds = prompts_list[i]\n",
        "  generator = torch.Generator().manual_seed(1)\n",
        "  image = pipe(\n",
        "    prompt_embeds=prompt_embeds,\n",
        "    negative_prompt_embeds=negative_embeds, \n",
        "    output_type=\"pt\",\n",
        "    generator=generator,\n",
        "    ).images\n",
        "    \n",
        "  pil_image = pt_to_pil(image)\n",
        "  #pipe.watermarker.apply_watermark(pil_image, pipe.unet.config.sample_size)\n",
        "  gen_image = pil_image[0]\n",
        "  gen_image.save(dir_gen1 + files_list[i][:-4] + \"genvr1.jpg\")\n",
        "  v1_images.append(image)"
      ],
      "metadata": {
        "id": "TP0eHxLHSk_A"
      },
      "execution_count": null,
      "outputs": []
    },
    {
      "cell_type": "code",
      "source": [
        "shutil.make_archive('/content/genvr1', 'zip', '/content/genvr1')\n",
        "files.download(\"/content/genvr1.zip\")"
      ],
      "metadata": {
        "id": "CEoAirywSpRw"
      },
      "execution_count": null,
      "outputs": []
    },
    {
      "cell_type": "code",
      "source": [
        "del pipe\n",
        "flush()"
      ],
      "metadata": {
        "id": "6gt61ttLSsbJ"
      },
      "execution_count": null,
      "outputs": []
    },
    {
      "cell_type": "code",
      "source": [
        "pipe = DiffusionPipeline.from_pretrained(\n",
        "    \"DeepFloyd/IF-II-L-v1.0\", \n",
        "    text_encoder=None, # no use of text encoder => memory savings!\n",
        "    variant=\"fp16\", \n",
        "    torch_dtype=torch.float16, \n",
        "    device_map=\"auto\"\n",
        ")"
      ],
      "metadata": {
        "id": "RCj6yw6gSyRp"
      },
      "execution_count": null,
      "outputs": []
    },
    {
      "cell_type": "code",
      "source": [
        "dir_gen2 = \"/content/genvr2/\"\n",
        "if not os.path.exists(dir_gen2):\n",
        "  os.makedirs(dir_gen2)\n",
        "\n",
        "v2_images = []\n",
        "\n",
        "for i in range(len(prompts_list)):\n",
        "  v1_image = v1_images[i]\n",
        "  prompt_embeds, negative_embeds = prompts_list[i]\n",
        "  image = pipe(\n",
        "    image=v1_image, \n",
        "    prompt_embeds=prompt_embeds, \n",
        "    negative_prompt_embeds=negative_embeds, \n",
        "    output_type=\"pt\",\n",
        "    generator=generator,\n",
        "  ).images\n",
        "    \n",
        "  pil_image = pt_to_pil(image)\n",
        "  #pipe.watermarker.apply_watermark(pil_image, pipe.unet.config.sample_size)\n",
        "  gen_image = pil_image[0]\n",
        "  gen_image.save(dir_gen2 + files[i][:-4] + \"genv2.jpg\")\n",
        "  v2_images.append(image)"
      ],
      "metadata": {
        "id": "w4F5jOC8S0LA"
      },
      "execution_count": null,
      "outputs": []
    },
    {
      "cell_type": "code",
      "source": [
        "shutil.make_archive('/content/genvr2', 'zip', '/content/genvr2')\n",
        "files.download(\"/content/genvr2.zip\")"
      ],
      "metadata": {
        "id": "0X_3iCWOS2Hm"
      },
      "execution_count": null,
      "outputs": []
    },
    {
      "cell_type": "code",
      "source": [
        "del pipe\n",
        "flush()\n",
        "\n",
        "from diffusers.pipelines.deepfloyd_if import IFWatermarker"
      ],
      "metadata": {
        "id": "guafiuEXS6As"
      },
      "execution_count": null,
      "outputs": []
    },
    {
      "cell_type": "code",
      "source": [
        "pipe = DiffusionPipeline.from_pretrained(\n",
        "    \"stabilityai/stable-diffusion-x4-upscaler\", \n",
        "    torch_dtype=torch.float16, \n",
        "    device_map=\"auto\"\n",
        ")"
      ],
      "metadata": {
        "id": "c0L8Cse0S8I4"
      },
      "execution_count": null,
      "outputs": []
    },
    {
      "cell_type": "code",
      "source": [
        "dir_gen3 = \"/content/genvr3/\"\n",
        "if not os.path.exists(dir_gen3):\n",
        "  os.makedirs(dir_gen3)\n",
        "\n",
        "for i in range(len(v2_images)):\n",
        "  v2_image = v2_images[i]\n",
        "  image_id = files_list[i][0:22]\n",
        "  prompt = prompts[image_id]\n",
        "  pil_image = pipe(prompt, generator=generator, image=v2_image).images\n",
        "  #watermarker = IFWatermarker.from_pretrained(\"DeepFloyd/IF-I-XL-v1.0\", subfolder=\"watermarker\")\n",
        "  #watermarker.apply_watermark(pil_image, pipe.unet.config.sample_size)\n",
        "  gen_image = pil_image[0]\n",
        "  gen_image.save(dir_gen3 + files_list[i][:-4] + \"genv3.jpg\")"
      ],
      "metadata": {
        "id": "CulRfM7fS9dG"
      },
      "execution_count": null,
      "outputs": []
    },
    {
      "cell_type": "code",
      "source": [
        "shutil.make_archive('/content/genvr3', 'zip', '/content/genvr3')\n",
        "files.download(\"/content/genvr3.zip\")"
      ],
      "metadata": {
        "id": "btccRyJkTIRi"
      },
      "execution_count": null,
      "outputs": []
    }
  ]
}