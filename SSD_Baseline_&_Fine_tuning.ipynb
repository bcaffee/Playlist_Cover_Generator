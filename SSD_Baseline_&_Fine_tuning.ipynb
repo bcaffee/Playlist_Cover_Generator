{
  "cells": [
    {
      "cell_type": "code",
      "execution_count": null,
      "metadata": {
        "id": "hZ26AxSuN6c7"
      },
      "outputs": [],
      "source": [
        "!pip install huggingface_hub --upgrade\n",
        "!pip install diffusers accelerate transformers safetensors sentencepiece\n",
        "!pip install clean-fid"
      ]
    },
    {
      "cell_type": "code",
      "execution_count": null,
      "metadata": {
        "id": "IewAWIUghyGk"
      },
      "outputs": [],
      "source": [
        "import matplotlib.pyplot as plt\n",
        "from diffusers import StableDiffusionPipeline\n",
        "import torch\n",
        "from huggingface_hub import login\n",
        "import numpy as np\n",
        "import os\n",
        "from PIL import Image\n",
        "import json\n",
        "import os.path\n",
        "from cleanfid import fid"
      ]
    },
    {
      "cell_type": "code",
      "execution_count": null,
      "metadata": {
        "id": "0REackoJh7Y5"
      },
      "outputs": [],
      "source": [
        "# Mount Google Drive\n",
        "from google.colab import drive\n",
        "drive.mount(\"/content/drive\", force_remount=True)"
      ]
    },
    {
      "cell_type": "code",
      "execution_count": null,
      "metadata": {
        "id": "E8jHg-uQ-_ec"
      },
      "outputs": [],
      "source": [
        "#Initialize Stable Diffusion model\n",
        "model_id = \"OFA-Sys/small-stable-diffusion-v0\"\n",
        "pipe = StableDiffusionPipeline.from_pretrained(model_id, torch_dtype=torch.float16)\n",
        "pipe = pipe.to(\"cuda\")"
      ]
    },
    {
      "cell_type": "code",
      "execution_count": null,
      "metadata": {
        "id": "XPHGIVBUQWmM"
      },
      "outputs": [],
      "source": [
        "with open(\"/content/drive/MyDrive/FinalProject/data/demo_prompts.json\", \"r\") as file:\n",
        "  prompts = json.load(file)\n",
        "\n",
        "dir_name = \"/content/drive/MyDrive/FinalProject/data/Paper-Poster_Demo/SSD_Generated/\"\n",
        "\n",
        "if not os.path.exists(dir_name):\n",
        "  os.makedirs(dir_name)\n",
        "\n",
        "images_path = '/content/drive/MyDrive/FinalProject/data/Paper-Poster_Demo/Original/'\n",
        "\n",
        "# List of sample true images\n",
        "image_names = ['37i9dQZF1DWWOaP4H0w5b0_0.jpg', '0OmxoVx5pWx8ARiI9rEJML.jpg', '0Iy20da7GRpAQGfVXZ5CFB.jpg', '216GOIIed7qbRTVVDDDES4.jpg', '37i9dQZF1DWV7cvDzE3MOI.jpg', \"0NSj06X0oIoDaBkR9MxB2c.jpg\"]\n",
        "\n",
        "# Generate and save the output images as well as the prompts\n",
        "for i in range(len(image_names)):\n",
        "  image_id = image_names[i][0:22]\n",
        "  prompt = prompts[image_id]\n",
        "  print(prompt)\n",
        "  generated_image = pipe(prompt).images[0]\n",
        "  plt.imshow(generated_image)\n",
        "  generated_image.save(dir_name + image_names[i])"
      ]
    },
    {
      "cell_type": "code",
      "execution_count": null,
      "metadata": {
        "id": "98SKt-Ygbgby"
      },
      "outputs": [],
      "source": [
        "dir_orig = \"/content/drive/MyDrive/FinalProject/data/SSDBaseline/Original/\"\n",
        "if not os.path.exists(dir_orig):\n",
        "  os.makedirs(dir_orig)\n",
        "\n",
        "dir_gen = \"/content/drive/MyDrive/FinalProject/data/SSDBaseline/Generated/\"\n",
        "if not os.path.exists(dir_gen):\n",
        "  os.makedirs(dir_gen)\n",
        "\n",
        "with open(\"/content/drive/MyDrive/FinalProject/data/test_set_prompts.json\", \"r\") as file:\n",
        "  prompts = json.load(file)\n",
        "\n",
        "test_path = '/content/drive/MyDrive/FinalProject/data/test/'\n",
        "\n",
        "# Get a list of all file names in the folder\n",
        "file_names = os.listdir(test_path)\n",
        "\n",
        "# Size of the test set\n",
        "num_test = len(file_names)\n",
        "\n",
        "# Generate an image using the model for each prompt\n",
        "for i in range(num_test):\n",
        "  image = Image.open(test_path + file_names[i])\n",
        "  image.save(dir_orig + file_names[i])\n",
        "  image_id = file_names[i][0:22]\n",
        "  prompt = prompts[image_id]\n",
        "  generated_image = pipe(prompt).images[0]\n",
        "  generated_image.save(dir_gen + file_names[i])"
      ]
    },
    {
      "cell_type": "code",
      "source": [
        "# Calculate the FID score\n",
        "dir_orig = \"/content/drive/MyDrive/FinalProject/data/DFOrig/\"\n",
        "dir_gen = \"/content/drive/MyDrive/FinalProject/data/DFGen2/\"\n",
        "score = fid.compute_fid(dir_orig, dir_gen)\n",
        "print(\"FID score: \" + str(score))"
      ],
      "metadata": {
        "id": "CX3ecUK5_lds"
      },
      "execution_count": null,
      "outputs": []
    },
    {
      "cell_type": "code",
      "source": [
        "# Calm nights generation for poster/paper demo\n",
        "dir_name = \"/content/drive/MyDrive/FinalProject/data/Paper-Poster_Demo/SSD_Generated/\"\n",
        "test_path = '/content/drive/MyDrive/FinalProject/data/test/'\n",
        "image = Image.open(test_path + \"0NSj06X0oIoDaBkR9MxB2c.jpg\")\n",
        "generated_image = pipe(\"Calm Nights playlist cover image\").images[0]\n",
        "generated_image.save(dir_name + \"0NSj06X0oIoDaBkR9MxB2c.jpg\")"
      ],
      "metadata": {
        "id": "vRoAjPHtE3mQ"
      },
      "execution_count": null,
      "outputs": []
    },
    {
      "cell_type": "code",
      "source": [
        "# Fine-tuning command\n",
        "accelerate launch train_text_to_image.py --pretrained_model_name_or_path=\"OFA-Sys/small-stable-diffusion-v0\" --train_data_dir=\"images\" --use_ema --resolution=256 --center_crop --random_flip --train_batch_size=1 --gradient_accumulation_steps=1 --gradient_checkpointing --checkpointing_steps=5000 --mixed_precision=\"fp16\" --max_train_steps=70000 --learning_rate=1e-10 --max_grad_norm=1 --lr_scheduler=\"constant\" --lr_warmup_steps=0 --output_dir=\"output\" "
      ],
      "metadata": {
        "id": "Jgtlwk8PkZHE"
      },
      "execution_count": null,
      "outputs": []
    }
  ],
  "metadata": {
    "accelerator": "GPU",
    "colab": {
      "provenance": [],
      "gpuType": "T4"
    },
    "kernelspec": {
      "display_name": "Python 3",
      "name": "python3"
    },
    "language_info": {
      "name": "python"
    }
  },
  "nbformat": 4,
  "nbformat_minor": 0
}